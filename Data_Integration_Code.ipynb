{
 "cells": [
  {
   "cell_type": "code",
   "execution_count": 1,
   "id": "f1ac2761-e94e-411d-998c-efcd950d25a6",
   "metadata": {},
   "outputs": [],
   "source": [
    "\n",
    "import pandas as pd"
   ]
  },
  {
   "cell_type": "markdown",
   "id": "1a3b6d54-c3d8-4b38-bf96-ac7b6f348d3e",
   "metadata": {},
   "source": [
    "## Loading all the CSV Files collected from GitHubAPI"
   ]
  },
  {
   "cell_type": "code",
   "execution_count": 2,
   "id": "809efad1-2e6d-4412-b222-9f838f6f3c7b",
   "metadata": {},
   "outputs": [],
   "source": [
    "all_csv_files = []"
   ]
  },
  {
   "cell_type": "code",
   "execution_count": 3,
   "id": "e6625970-a2a2-4238-b0f2-581727009595",
   "metadata": {},
   "outputs": [],
   "source": [
    "files= [\"parallel_Exec_data_2_0.1_samples.csv\",\n",
    "\"parallel_Exec_data.csv\",\n",
    "\"parallel_Exec_datafile_2023-11-19_02-18-04.csv\",\n",
    "\"parallel_Exec_datafile_2023-11-19_02-04-02.csv\",\n",
    "\"parallel_Exec_datafile_2023-11-19_01-39-50.csv\"]"
   ]
  },
  {
   "cell_type": "code",
   "execution_count": 4,
   "id": "153b3f49-b005-4223-a73a-ca5d4624edac",
   "metadata": {},
   "outputs": [],
   "source": [
    "for file in files:\n",
    "    df = pd.read_csv(file)\n",
    "    all_csv_files.append(df)"
   ]
  },
  {
   "cell_type": "code",
   "execution_count": 5,
   "id": "98312f14-f8a3-44f7-af80-31a317787459",
   "metadata": {},
   "outputs": [],
   "source": [
    "df = pd.concat(all_csv_files)"
   ]
  },
  {
   "cell_type": "code",
   "execution_count": 6,
   "id": "f50c9f31-97d3-48d0-b7da-e9d0e2f7e27b",
   "metadata": {},
   "outputs": [
    {
     "data": {
      "text/plain": [
       "(101853, 22)"
      ]
     },
     "execution_count": 6,
     "metadata": {},
     "output_type": "execute_result"
    }
   ],
   "source": [
    "df.shape"
   ]
  },
  {
   "cell_type": "markdown",
   "id": "8bd010f9-c1d9-4e39-9e5f-777dc896214e",
   "metadata": {},
   "source": [
    "### Removing the duplicate Records\n"
   ]
  },
  {
   "cell_type": "code",
   "execution_count": 7,
   "id": "161f12f6-c575-4e8e-9404-73fad0787762",
   "metadata": {},
   "outputs": [],
   "source": [
    "df2 = df.drop_duplicates()"
   ]
  },
  {
   "cell_type": "code",
   "execution_count": 8,
   "id": "6c0a87fd-a198-4699-8c66-aeafe698ee7c",
   "metadata": {},
   "outputs": [
    {
     "data": {
      "text/plain": [
       "(101837, 22)"
      ]
     },
     "execution_count": 8,
     "metadata": {},
     "output_type": "execute_result"
    }
   ],
   "source": [
    "df2.shape"
   ]
  },
  {
   "cell_type": "code",
   "execution_count": 9,
   "id": "afae83c3-44d3-4869-bef4-bc96ad2d030b",
   "metadata": {},
   "outputs": [],
   "source": [
    "file_path = r\"preprocessed_github_user_repository_data.csv\"\n"
   ]
  },
  {
   "cell_type": "code",
   "execution_count": 10,
   "id": "6e9dbe73-c310-4624-95fb-d8985a4e2c5b",
   "metadata": {},
   "outputs": [],
   "source": [
    "df3 = pd.read_csv(file_path)"
   ]
  },
  {
   "cell_type": "markdown",
   "id": "5933607d-0612-4444-a7fa-4431b4f0861d",
   "metadata": {},
   "source": [
    "### Integrating the users repository data"
   ]
  },
  {
   "cell_type": "code",
   "execution_count": 11,
   "id": "5fb2b1c6-e420-43c6-b61a-7135cfe444f4",
   "metadata": {},
   "outputs": [],
   "source": [
    "final_df = pd.concat([df2, df3])"
   ]
  },
  {
   "cell_type": "code",
   "execution_count": 12,
   "id": "fcdcd58f-4d84-4458-b647-76e8f9572ea7",
   "metadata": {},
   "outputs": [
    {
     "data": {
      "text/plain": [
       "(443529, 23)"
      ]
     },
     "execution_count": 12,
     "metadata": {},
     "output_type": "execute_result"
    }
   ],
   "source": [
    "final_df.shape"
   ]
  },
  {
   "cell_type": "code",
   "execution_count": 13,
   "id": "5f9af48f-e285-4cb3-8eb9-8ab85618dc39",
   "metadata": {},
   "outputs": [],
   "source": [
    "final_df.drop(columns=['visibility', 'contributors_url', 'languages_url', 'description', 'default_branch','full_repository_name'], inplace=True)"
   ]
  },
  {
   "cell_type": "code",
   "execution_count": 14,
   "id": "395ab429-e91b-4afc-a6cb-6208ab0e259f",
   "metadata": {},
   "outputs": [],
   "source": [
    "final_df.drop(columns=['user_name'] , inplace=True)"
   ]
  },
  {
   "cell_type": "markdown",
   "id": "1decadab-ed6a-400c-8a4a-d7ebe26cf428",
   "metadata": {},
   "source": [
    "## Handling column names"
   ]
  },
  {
   "cell_type": "code",
   "execution_count": 15,
   "id": "3a847b7e-7d67-4ce5-9b54-7600106ea209",
   "metadata": {},
   "outputs": [],
   "source": [
    "final_df.columns = [col.replace(\" \", \"_\") for col in final_df.columns]"
   ]
  },
  {
   "cell_type": "code",
   "execution_count": 16,
   "id": "4cb36dad-9853-43dc-80da-e6f0004c3212",
   "metadata": {},
   "outputs": [],
   "source": [
    "final_df.drop(columns=['watchers', 'open_issues'],inplace=True)"
   ]
  },
  {
   "cell_type": "code",
   "execution_count": 17,
   "id": "87673124-114a-4f63-a6e6-eb2d10416d70",
   "metadata": {},
   "outputs": [],
   "source": [
    "final_df.drop_duplicates(inplace=True)"
   ]
  },
  {
   "cell_type": "code",
   "execution_count": 18,
   "id": "c9b61ea4-6e1f-413f-9d39-6cf4e4e76957",
   "metadata": {},
   "outputs": [
    {
     "data": {
      "text/plain": [
       "(443529, 14)"
      ]
     },
     "execution_count": 18,
     "metadata": {},
     "output_type": "execute_result"
    }
   ],
   "source": [
    "final_df.shape"
   ]
  },
  {
   "cell_type": "code",
   "execution_count": null,
   "id": "28d58570-9fef-42e6-b9fa-0b1f34dac6a2",
   "metadata": {},
   "outputs": [],
   "source": []
  },
  {
   "cell_type": "code",
   "execution_count": 19,
   "id": "7babb0a2-5775-400d-816f-78a220d9f87c",
   "metadata": {},
   "outputs": [],
   "source": [
    "numeric_columns = final_df.select_dtypes(include=['number']).columns\n",
    "\n",
    "date_columns = ['created_at', 'pushed_at','updated_at' ]\n"
   ]
  },
  {
   "cell_type": "code",
   "execution_count": 20,
   "id": "4642dd27-dca9-41f4-96df-58f9b3435832",
   "metadata": {},
   "outputs": [],
   "source": [
    "for col in date_columns:\n",
    "    final_df[col] = pd.to_datetime(final_df[col], format='mixed', dayfirst=True) \n",
    "        "
   ]
  },
  {
   "cell_type": "code",
   "execution_count": 21,
   "id": "0ff6d28a-36bb-46cb-9775-1d5a38772d15",
   "metadata": {},
   "outputs": [],
   "source": [
    "categorical_columns = [col for col in df.columns if (col  not in numeric_columns) and (col not in date_columns)]\n"
   ]
  },
  {
   "cell_type": "code",
   "execution_count": 22,
   "id": "7952d13f-8656-4d41-a55f-3a8ce8b61eae",
   "metadata": {},
   "outputs": [
    {
     "data": {
      "text/plain": [
       "[None, None, None, None]"
      ]
     },
     "execution_count": 22,
     "metadata": {},
     "output_type": "execute_result"
    }
   ],
   "source": [
    "[df[col].fillna(0, inplace=True) for col in final_df.columns if col in numeric_columns]\n",
    "       "
   ]
  },
  {
   "cell_type": "code",
   "execution_count": 23,
   "id": "032d21e7-71c0-4032-ae8d-3422d6d586b3",
   "metadata": {},
   "outputs": [
    {
     "name": "stderr",
     "output_type": "stream",
     "text": [
      "C:\\Users\\venka\\AppData\\Local\\Temp\\ipykernel_3060\\957605254.py:2: FutureWarning: Series.fillna with 'method' is deprecated and will raise in a future version. Use obj.ffill() or obj.bfill() instead.\n",
      "  final_df[col].fillna(method='bfill', inplace=True)\n"
     ]
    }
   ],
   "source": [
    "for col in date_columns:\n",
    "            final_df[col].fillna(method='bfill', inplace=True)"
   ]
  },
  {
   "cell_type": "code",
   "execution_count": 24,
   "id": "9f2565fe-06ed-486e-ab0d-edc90f71378d",
   "metadata": {},
   "outputs": [],
   "source": [
    "final_df['language_count'].fillna(0, inplace=True)"
   ]
  },
  {
   "cell_type": "code",
   "execution_count": 25,
   "id": "afb7bd15-6913-4478-bc20-92c4e76779aa",
   "metadata": {},
   "outputs": [],
   "source": [
    "final_df.drop(final_df[final_df['language'].isnull()].index, inplace=True)"
   ]
  },
  {
   "cell_type": "code",
   "execution_count": 26,
   "id": "554f8516-0557-4f7d-9d3e-47a4d8b64f2d",
   "metadata": {},
   "outputs": [
    {
     "ename": "KeyError",
     "evalue": "\"['visibility', 'contributors_url', 'languages_url', 'description', 'default_branch', 'full_repository_name'] not found in axis\"",
     "output_type": "error",
     "traceback": [
      "\u001b[1;31m---------------------------------------------------------------------------\u001b[0m",
      "\u001b[1;31mKeyError\u001b[0m                                  Traceback (most recent call last)",
      "Cell \u001b[1;32mIn[26], line 1\u001b[0m\n\u001b[1;32m----> 1\u001b[0m final_df\u001b[38;5;241m.\u001b[39mdrop(columns\u001b[38;5;241m=\u001b[39m[\u001b[38;5;124m'\u001b[39m\u001b[38;5;124mvisibility\u001b[39m\u001b[38;5;124m'\u001b[39m, \u001b[38;5;124m'\u001b[39m\u001b[38;5;124mcontributors_url\u001b[39m\u001b[38;5;124m'\u001b[39m, \u001b[38;5;124m'\u001b[39m\u001b[38;5;124mlanguages_url\u001b[39m\u001b[38;5;124m'\u001b[39m, \u001b[38;5;124m'\u001b[39m\u001b[38;5;124mdescription\u001b[39m\u001b[38;5;124m'\u001b[39m, \u001b[38;5;124m'\u001b[39m\u001b[38;5;124mname\u001b[39m\u001b[38;5;124m'\u001b[39m, \u001b[38;5;124m'\u001b[39m\u001b[38;5;124mdefault_branch\u001b[39m\u001b[38;5;124m'\u001b[39m,\u001b[38;5;124m'\u001b[39m\u001b[38;5;124mfull_repository_name\u001b[39m\u001b[38;5;124m'\u001b[39m], inplace\u001b[38;5;241m=\u001b[39m\u001b[38;5;28;01mTrue\u001b[39;00m)\n",
      "File \u001b[1;32m~\\anaconda3\\Lib\\site-packages\\pandas\\core\\frame.py:5347\u001b[0m, in \u001b[0;36mDataFrame.drop\u001b[1;34m(self, labels, axis, index, columns, level, inplace, errors)\u001b[0m\n\u001b[0;32m   5199\u001b[0m \u001b[38;5;28;01mdef\u001b[39;00m \u001b[38;5;21mdrop\u001b[39m(\n\u001b[0;32m   5200\u001b[0m     \u001b[38;5;28mself\u001b[39m,\n\u001b[0;32m   5201\u001b[0m     labels: IndexLabel \u001b[38;5;241m|\u001b[39m \u001b[38;5;28;01mNone\u001b[39;00m \u001b[38;5;241m=\u001b[39m \u001b[38;5;28;01mNone\u001b[39;00m,\n\u001b[1;32m   (...)\u001b[0m\n\u001b[0;32m   5208\u001b[0m     errors: IgnoreRaise \u001b[38;5;241m=\u001b[39m \u001b[38;5;124m\"\u001b[39m\u001b[38;5;124mraise\u001b[39m\u001b[38;5;124m\"\u001b[39m,\n\u001b[0;32m   5209\u001b[0m ) \u001b[38;5;241m-\u001b[39m\u001b[38;5;241m>\u001b[39m DataFrame \u001b[38;5;241m|\u001b[39m \u001b[38;5;28;01mNone\u001b[39;00m:\n\u001b[0;32m   5210\u001b[0m \u001b[38;5;250m    \u001b[39m\u001b[38;5;124;03m\"\"\"\u001b[39;00m\n\u001b[0;32m   5211\u001b[0m \u001b[38;5;124;03m    Drop specified labels from rows or columns.\u001b[39;00m\n\u001b[0;32m   5212\u001b[0m \n\u001b[1;32m   (...)\u001b[0m\n\u001b[0;32m   5345\u001b[0m \u001b[38;5;124;03m            weight  1.0     0.8\u001b[39;00m\n\u001b[0;32m   5346\u001b[0m \u001b[38;5;124;03m    \"\"\"\u001b[39;00m\n\u001b[1;32m-> 5347\u001b[0m     \u001b[38;5;28;01mreturn\u001b[39;00m \u001b[38;5;28msuper\u001b[39m()\u001b[38;5;241m.\u001b[39mdrop(\n\u001b[0;32m   5348\u001b[0m         labels\u001b[38;5;241m=\u001b[39mlabels,\n\u001b[0;32m   5349\u001b[0m         axis\u001b[38;5;241m=\u001b[39maxis,\n\u001b[0;32m   5350\u001b[0m         index\u001b[38;5;241m=\u001b[39mindex,\n\u001b[0;32m   5351\u001b[0m         columns\u001b[38;5;241m=\u001b[39mcolumns,\n\u001b[0;32m   5352\u001b[0m         level\u001b[38;5;241m=\u001b[39mlevel,\n\u001b[0;32m   5353\u001b[0m         inplace\u001b[38;5;241m=\u001b[39minplace,\n\u001b[0;32m   5354\u001b[0m         errors\u001b[38;5;241m=\u001b[39merrors,\n\u001b[0;32m   5355\u001b[0m     )\n",
      "File \u001b[1;32m~\\anaconda3\\Lib\\site-packages\\pandas\\core\\generic.py:4711\u001b[0m, in \u001b[0;36mNDFrame.drop\u001b[1;34m(self, labels, axis, index, columns, level, inplace, errors)\u001b[0m\n\u001b[0;32m   4709\u001b[0m \u001b[38;5;28;01mfor\u001b[39;00m axis, labels \u001b[38;5;129;01min\u001b[39;00m axes\u001b[38;5;241m.\u001b[39mitems():\n\u001b[0;32m   4710\u001b[0m     \u001b[38;5;28;01mif\u001b[39;00m labels \u001b[38;5;129;01mis\u001b[39;00m \u001b[38;5;129;01mnot\u001b[39;00m \u001b[38;5;28;01mNone\u001b[39;00m:\n\u001b[1;32m-> 4711\u001b[0m         obj \u001b[38;5;241m=\u001b[39m obj\u001b[38;5;241m.\u001b[39m_drop_axis(labels, axis, level\u001b[38;5;241m=\u001b[39mlevel, errors\u001b[38;5;241m=\u001b[39merrors)\n\u001b[0;32m   4713\u001b[0m \u001b[38;5;28;01mif\u001b[39;00m inplace:\n\u001b[0;32m   4714\u001b[0m     \u001b[38;5;28mself\u001b[39m\u001b[38;5;241m.\u001b[39m_update_inplace(obj)\n",
      "File \u001b[1;32m~\\anaconda3\\Lib\\site-packages\\pandas\\core\\generic.py:4753\u001b[0m, in \u001b[0;36mNDFrame._drop_axis\u001b[1;34m(self, labels, axis, level, errors, only_slice)\u001b[0m\n\u001b[0;32m   4751\u001b[0m         new_axis \u001b[38;5;241m=\u001b[39m axis\u001b[38;5;241m.\u001b[39mdrop(labels, level\u001b[38;5;241m=\u001b[39mlevel, errors\u001b[38;5;241m=\u001b[39merrors)\n\u001b[0;32m   4752\u001b[0m     \u001b[38;5;28;01melse\u001b[39;00m:\n\u001b[1;32m-> 4753\u001b[0m         new_axis \u001b[38;5;241m=\u001b[39m axis\u001b[38;5;241m.\u001b[39mdrop(labels, errors\u001b[38;5;241m=\u001b[39merrors)\n\u001b[0;32m   4754\u001b[0m     indexer \u001b[38;5;241m=\u001b[39m axis\u001b[38;5;241m.\u001b[39mget_indexer(new_axis)\n\u001b[0;32m   4756\u001b[0m \u001b[38;5;66;03m# Case for non-unique axis\u001b[39;00m\n\u001b[0;32m   4757\u001b[0m \u001b[38;5;28;01melse\u001b[39;00m:\n",
      "File \u001b[1;32m~\\anaconda3\\Lib\\site-packages\\pandas\\core\\indexes\\base.py:6992\u001b[0m, in \u001b[0;36mIndex.drop\u001b[1;34m(self, labels, errors)\u001b[0m\n\u001b[0;32m   6990\u001b[0m \u001b[38;5;28;01mif\u001b[39;00m mask\u001b[38;5;241m.\u001b[39many():\n\u001b[0;32m   6991\u001b[0m     \u001b[38;5;28;01mif\u001b[39;00m errors \u001b[38;5;241m!=\u001b[39m \u001b[38;5;124m\"\u001b[39m\u001b[38;5;124mignore\u001b[39m\u001b[38;5;124m\"\u001b[39m:\n\u001b[1;32m-> 6992\u001b[0m         \u001b[38;5;28;01mraise\u001b[39;00m \u001b[38;5;167;01mKeyError\u001b[39;00m(\u001b[38;5;124mf\u001b[39m\u001b[38;5;124m\"\u001b[39m\u001b[38;5;132;01m{\u001b[39;00mlabels[mask]\u001b[38;5;241m.\u001b[39mtolist()\u001b[38;5;132;01m}\u001b[39;00m\u001b[38;5;124m not found in axis\u001b[39m\u001b[38;5;124m\"\u001b[39m)\n\u001b[0;32m   6993\u001b[0m     indexer \u001b[38;5;241m=\u001b[39m indexer[\u001b[38;5;241m~\u001b[39mmask]\n\u001b[0;32m   6994\u001b[0m \u001b[38;5;28;01mreturn\u001b[39;00m \u001b[38;5;28mself\u001b[39m\u001b[38;5;241m.\u001b[39mdelete(indexer)\n",
      "\u001b[1;31mKeyError\u001b[0m: \"['visibility', 'contributors_url', 'languages_url', 'description', 'default_branch', 'full_repository_name'] not found in axis\""
     ]
    }
   ],
   "source": [
    "final_df.drop(columns=['visibility', 'contributors_url', 'languages_url', 'description', 'name', 'default_branch','full_repository_name'], inplace=True)\n"
   ]
  },
  {
   "cell_type": "code",
   "execution_count": 27,
   "id": "bab910c7-aaf1-46eb-b763-4538ce5395d9",
   "metadata": {},
   "outputs": [],
   "source": [
    "final_df['user_name'].fillna(\"not_given\" , inplace=True)"
   ]
  },
  {
   "cell_type": "code",
   "execution_count": 28,
   "id": "7d15c917-3a09-4240-82cb-f8bf7d005e6b",
   "metadata": {},
   "outputs": [],
   "source": [
    "final_df['name'].fillna(\"main\", inplace=True)"
   ]
  },
  {
   "cell_type": "code",
   "execution_count": 29,
   "id": "3b15a0b8-35f5-4dbf-8fb7-316a092430be",
   "metadata": {},
   "outputs": [
    {
     "data": {
      "text/plain": [
       "user_name              0\n",
       "state                  0\n",
       "contributions_count    0\n",
       "name                   0\n",
       "user_type              0\n",
       "created_at             0\n",
       "pushed_at              0\n",
       "updated_at             0\n",
       "open_issues_count      0\n",
       "watchers_count         0\n",
       "is_disabled            0\n",
       "is_archieved           0\n",
       "language               0\n",
       "language_count         0\n",
       "dtype: int64"
      ]
     },
     "execution_count": 29,
     "metadata": {},
     "output_type": "execute_result"
    }
   ],
   "source": [
    "final_df.isnull().sum()"
   ]
  },
  {
   "cell_type": "code",
   "execution_count": 30,
   "id": "aa93bb9e-1618-45cd-8f3e-8e82cc772479",
   "metadata": {},
   "outputs": [
    {
     "data": {
      "text/html": [
       "<div>\n",
       "<style scoped>\n",
       "    .dataframe tbody tr th:only-of-type {\n",
       "        vertical-align: middle;\n",
       "    }\n",
       "\n",
       "    .dataframe tbody tr th {\n",
       "        vertical-align: top;\n",
       "    }\n",
       "\n",
       "    .dataframe thead th {\n",
       "        text-align: right;\n",
       "    }\n",
       "</style>\n",
       "<table border=\"1\" class=\"dataframe\">\n",
       "  <thead>\n",
       "    <tr style=\"text-align: right;\">\n",
       "      <th></th>\n",
       "      <th>contributions_count</th>\n",
       "      <th>open_issues_count</th>\n",
       "      <th>watchers_count</th>\n",
       "      <th>language_count</th>\n",
       "    </tr>\n",
       "  </thead>\n",
       "  <tbody>\n",
       "    <tr>\n",
       "      <th>count</th>\n",
       "      <td>423035.000000</td>\n",
       "      <td>423035.000000</td>\n",
       "      <td>423035.000000</td>\n",
       "      <td>4.230350e+05</td>\n",
       "    </tr>\n",
       "    <tr>\n",
       "      <th>mean</th>\n",
       "      <td>369.196461</td>\n",
       "      <td>0.750619</td>\n",
       "      <td>11.577236</td>\n",
       "      <td>1.100926e+05</td>\n",
       "    </tr>\n",
       "    <tr>\n",
       "      <th>std</th>\n",
       "      <td>2186.650374</td>\n",
       "      <td>8.253676</td>\n",
       "      <td>320.406287</td>\n",
       "      <td>4.377601e+06</td>\n",
       "    </tr>\n",
       "    <tr>\n",
       "      <th>min</th>\n",
       "      <td>0.000000</td>\n",
       "      <td>0.000000</td>\n",
       "      <td>0.000000</td>\n",
       "      <td>0.000000e+00</td>\n",
       "    </tr>\n",
       "    <tr>\n",
       "      <th>25%</th>\n",
       "      <td>4.000000</td>\n",
       "      <td>0.000000</td>\n",
       "      <td>0.000000</td>\n",
       "      <td>0.000000e+00</td>\n",
       "    </tr>\n",
       "    <tr>\n",
       "      <th>50%</th>\n",
       "      <td>15.000000</td>\n",
       "      <td>0.000000</td>\n",
       "      <td>0.000000</td>\n",
       "      <td>0.000000e+00</td>\n",
       "    </tr>\n",
       "    <tr>\n",
       "      <th>75%</th>\n",
       "      <td>87.000000</td>\n",
       "      <td>0.000000</td>\n",
       "      <td>0.000000</td>\n",
       "      <td>0.000000e+00</td>\n",
       "    </tr>\n",
       "    <tr>\n",
       "      <th>max</th>\n",
       "      <td>111090.000000</td>\n",
       "      <td>596.000000</td>\n",
       "      <td>31810.000000</td>\n",
       "      <td>1.172791e+09</td>\n",
       "    </tr>\n",
       "  </tbody>\n",
       "</table>\n",
       "</div>"
      ],
      "text/plain": [
       "       contributions_count  open_issues_count  watchers_count  language_count\n",
       "count        423035.000000      423035.000000   423035.000000    4.230350e+05\n",
       "mean            369.196461           0.750619       11.577236    1.100926e+05\n",
       "std            2186.650374           8.253676      320.406287    4.377601e+06\n",
       "min               0.000000           0.000000        0.000000    0.000000e+00\n",
       "25%               4.000000           0.000000        0.000000    0.000000e+00\n",
       "50%              15.000000           0.000000        0.000000    0.000000e+00\n",
       "75%              87.000000           0.000000        0.000000    0.000000e+00\n",
       "max          111090.000000         596.000000    31810.000000    1.172791e+09"
      ]
     },
     "execution_count": 30,
     "metadata": {},
     "output_type": "execute_result"
    }
   ],
   "source": [
    "final_df.describe()"
   ]
  },
  {
   "cell_type": "code",
   "execution_count": 31,
   "id": "4249a949-b2fd-489b-880f-c42e972df108",
   "metadata": {},
   "outputs": [
    {
     "data": {
      "text/plain": [
       "user_type\n",
       "User            405890\n",
       "Organization     17145\n",
       "Name: count, dtype: int64"
      ]
     },
     "execution_count": 31,
     "metadata": {},
     "output_type": "execute_result"
    }
   ],
   "source": [
    "final_df['user_type'].value_counts()"
   ]
  },
  {
   "cell_type": "code",
   "execution_count": 32,
   "id": "45b71d39-cc3b-44df-b6bc-4240392d3a7e",
   "metadata": {},
   "outputs": [],
   "source": [
    "from sklearn.utils import resample"
   ]
  },
  {
   "cell_type": "code",
   "execution_count": 33,
   "id": "21448d3b-4f55-489f-ae44-0c0d539654b9",
   "metadata": {},
   "outputs": [],
   "source": [
    "\n",
    "users_data = final_df[final_df['user_type'] == 'User']\n",
    "orgs_data = final_df[final_df['user_type'] == 'Organization']\n",
    "\n",
    "\n",
    "sampled_data = resample(users_data, replace=True, n_samples=len(orgs_data))\n",
    "\n",
    "balanced_df = pd.concat([sampled_data, users_data])\n"
   ]
  },
  {
   "cell_type": "code",
   "execution_count": 34,
   "id": "2d761073-97cb-499b-9aa6-ea18b8fc042c",
   "metadata": {},
   "outputs": [],
   "source": [
    "final_df.to_csv(\"balanced_dataset_dec_19.csv\", index=False)"
   ]
  },
  {
   "cell_type": "code",
   "execution_count": null,
   "id": "65fd58a2-74c3-46a9-a713-84886c81ea7a",
   "metadata": {},
   "outputs": [],
   "source": [
    "final_df.describe"
   ]
  }
 ],
 "metadata": {
  "kernelspec": {
   "display_name": "Python 3 (ipykernel)",
   "language": "python",
   "name": "python3"
  },
  "language_info": {
   "codemirror_mode": {
    "name": "ipython",
    "version": 3
   },
   "file_extension": ".py",
   "mimetype": "text/x-python",
   "name": "python",
   "nbconvert_exporter": "python",
   "pygments_lexer": "ipython3",
   "version": "3.11.5"
  }
 },
 "nbformat": 4,
 "nbformat_minor": 5
}
